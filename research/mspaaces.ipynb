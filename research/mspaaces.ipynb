{
 "cells": [
  {
   "cell_type": "code",
   "execution_count": 22,
   "metadata": {},
   "outputs": [
    {
     "data": {
      "text/plain": [
       "True"
      ]
     },
     "execution_count": 22,
     "metadata": {},
     "output_type": "execute_result"
    }
   ],
   "source": [
    "from dotenv import load_dotenv\n",
    "\n",
    "load_dotenv(dotenv_path=\"../.envrc\")"
   ]
  },
  {
   "cell_type": "code",
   "execution_count": 23,
   "metadata": {},
   "outputs": [],
   "source": [
    "from langchain_community.document_loaders.csv_loader import CSVLoader\n",
    "from langchain_community.vectorstores import FAISS\n",
    "from langchain_openai import OpenAI\n",
    "from langchain_openai import OpenAIEmbeddings\n",
    "from langchain_community.vectorstores import Chroma"
   ]
  },
  {
   "cell_type": "code",
   "execution_count": 24,
   "metadata": {},
   "outputs": [],
   "source": [
    "import os\n",
    "loader = CSVLoader(os.path.join(os.getcwd(),\"cusinfo.csv\"))"
   ]
  },
  {
   "cell_type": "code",
   "execution_count": 25,
   "metadata": {},
   "outputs": [],
   "source": [
    "data = loader.load()"
   ]
  },
  {
   "cell_type": "code",
   "execution_count": 26,
   "metadata": {},
   "outputs": [],
   "source": [
    "llm = OpenAI(temperature=0.7)\n",
    "embeddings = OpenAIEmbeddings()"
   ]
  },
  {
   "cell_type": "code",
   "execution_count": 27,
   "metadata": {},
   "outputs": [],
   "source": [
    "vectorstore = FAISS.from_documents(data, embeddings)"
   ]
  },
  {
   "cell_type": "code",
   "execution_count": 28,
   "metadata": {},
   "outputs": [],
   "source": [
    "from langchain.chains import RetrievalQA"
   ]
  },
  {
   "cell_type": "code",
   "execution_count": 29,
   "metadata": {},
   "outputs": [],
   "source": [
    "chain = RetrievalQA.from_chain_type(llm=llm, chain_type=\"stuff\", retriever=vectorstore.as_retriever(), return_source_documents=True)"
   ]
  },
  {
   "cell_type": "code",
   "execution_count": 30,
   "metadata": {},
   "outputs": [
    {
     "name": "stdout",
     "output_type": "stream",
     "text": [
      "There are 4 rows in the dataset.\n",
      "Bassed on the Data: /Users/rajath/analogdata/spaacesai/research/cusinfo.csv\n"
     ]
    }
   ],
   "source": [
    "response = chain.invoke(\"How many rows are there in the dataset?\")\n",
    "print(response[\"result\"])\n",
    "print(\"Bassed on the Data:\", response[\"source_documents\"][0].metadata['source'])"
   ]
  },
  {
   "cell_type": "code",
   "execution_count": 31,
   "metadata": {},
   "outputs": [
    {
     "data": {
      "text/plain": [
       "{'query': 'How many visits are scheduled for tomorrow that is 23-05-2024 ?',\n",
       " 'result': ' 1',\n",
       " 'source_documents': [Document(page_content='customer_id: 1\\nname: Rajath Kumar\\nemail: rajathkumarks@gmail.com\\nphone: 9108399333\\nvisit_planned: 23-05-2024', metadata={'source': '/Users/rajath/analogdata/spaacesai/research/cusinfo.csv', 'row': 0}),\n",
       "  Document(page_content='customer_id: 4\\nname: Vijay\\nemail: vijay@elementure.tech\\nphone: 9108399555\\nvisit_planned: 27-05-2024', metadata={'source': '/Users/rajath/analogdata/spaacesai/research/cusinfo.csv', 'row': 3}),\n",
       "  Document(page_content='customer_id: 3\\nname: Vikram\\nemail: vikram@elementure.tech\\nphone: 9108399333\\nvisit_planned: 26-05-2024', metadata={'source': '/Users/rajath/analogdata/spaacesai/research/cusinfo.csv', 'row': 2}),\n",
       "  Document(page_content='customer_id: 5\\nname: Pushpa\\nemail: pushpa@elementure.tech\\nphone: 9108399888\\nvisit_planned: 30-05+2024', metadata={'source': '/Users/rajath/analogdata/spaacesai/research/cusinfo.csv', 'row': 4})]}"
      ]
     },
     "execution_count": 31,
     "metadata": {},
     "output_type": "execute_result"
    }
   ],
   "source": [
    "chain.invoke(\"How many visits are scheduled for tomorrow that is 23-05-2024 ?\")"
   ]
  },
  {
   "cell_type": "markdown",
   "metadata": {},
   "source": [
    "### HTML Loader"
   ]
  },
  {
   "cell_type": "code",
   "execution_count": 32,
   "metadata": {},
   "outputs": [],
   "source": [
    "from langchain_community.document_loaders import BSHTMLLoader"
   ]
  },
  {
   "cell_type": "code",
   "execution_count": 33,
   "metadata": {},
   "outputs": [],
   "source": [
    "web_file = os.path.join(os.getcwd(),\"web_mspaaces\",\"engrace_vista.html\")"
   ]
  },
  {
   "cell_type": "code",
   "execution_count": 34,
   "metadata": {},
   "outputs": [],
   "source": [
    "web_loader = BSHTMLLoader(os.path.join(os.getcwd(),\"web_mspaaces\",\"engrace_vista.html\"))"
   ]
  },
  {
   "cell_type": "code",
   "execution_count": 35,
   "metadata": {},
   "outputs": [],
   "source": [
    "web_data = web_loader.load()"
   ]
  },
  {
   "cell_type": "code",
   "execution_count": 36,
   "metadata": {},
   "outputs": [],
   "source": [
    "from langchain_text_splitters import HTMLSectionSplitter\n",
    "from langchain_text_splitters import RecursiveCharacterTextSplitter"
   ]
  },
  {
   "cell_type": "code",
   "execution_count": 37,
   "metadata": {},
   "outputs": [],
   "source": [
    "headers_to_split_on = [\n",
    "    (\"h1\", \"Header 1\"),\n",
    "    (\"h2\", \"Header 2\"),\n",
    "    (\"h3\", \"Header 3\"),\n",
    "    (\"h4\", \"Header 4\"),\n",
    "    (\"h5\", \"Header 5\"),\n",
    "    (\"h6\", \"Header 6\"),\n",
    "    (\"p\", \"Paragraph\"),\n",
    "]"
   ]
  },
  {
   "cell_type": "code",
   "execution_count": 38,
   "metadata": {},
   "outputs": [],
   "source": [
    "website_data = open(web_file, \"r\").read()"
   ]
  },
  {
   "cell_type": "code",
   "execution_count": 39,
   "metadata": {},
   "outputs": [],
   "source": [
    "html_splitter = HTMLSectionSplitter(headers_to_split_on)\n",
    "\n",
    "html_header_splits = html_splitter.split_text(website_data)\n",
    "\n",
    "chunk_size = 500\n",
    "chunk_overlap = 30\n",
    "text_splitter = RecursiveCharacterTextSplitter(\n",
    "    chunk_size=chunk_size, chunk_overlap=chunk_overlap\n",
    ")"
   ]
  },
  {
   "cell_type": "code",
   "execution_count": 40,
   "metadata": {},
   "outputs": [],
   "source": [
    "splits = text_splitter.split_documents(html_header_splits)"
   ]
  },
  {
   "cell_type": "code",
   "execution_count": 41,
   "metadata": {},
   "outputs": [
    {
     "data": {
      "text/plain": [
       "[Document(page_content='You need to enable JavaScript to run this app.\\n   \\n \\n \\n \\n \\n \\n \\n \\n \\n \\n \\n \\n \\n \\n            Projects\\n            \\n \\n \\n \\n \\n \\n \\n \\n \\n             Ongoing Projects\\n             \\n \\n \\n \\n \\n \\n               Soulace\\n               \\n \\n \\n \\n               Engrace\\n               \\n \\n               4 Units Left\\n               \\n \\n \\n \\n               Engrace Vista\\n               \\n \\n \\n \\n \\n \\n             Upcoming Projects\\n             \\n \\n \\n \\n \\n              Central Park\\n              \\n \\n              Serene Heights', metadata={'Header 1': '#TITLE#'}),\n",
       " Document(page_content='Serene Heights\\n              \\n \\n              Onyx\\n              \\n \\n              Green Storeys\\n              \\n \\n              Windmere\\n              \\n \\n              Walk Town Residences\\n              \\n \\n              Tranquil Terraces\\n              \\n \\n              Ivy County\\n              \\n \\n              Fo’Rest of ur lyf\\n              \\n \\n \\n \\n \\n             Completed Projects\\n             \\n \\n \\n \\n \\n \\n               Soul Tree\\n               \\n \\n               Sold Out', metadata={'Header 1': '#TITLE#'}),\n",
       " Document(page_content='Sold Out\\n               \\n \\n \\n \\n               Urbanest\\n               \\n \\n               Sold Out\\n               \\n \\n \\n \\n \\n \\n \\n \\n           About Us\\n           \\n \\n \\n \\n           Blogs\\n           \\n \\n \\n \\n \\n \\n \\n          +91 9008 288 288\\n          \\n \\n \\n \\n          info@modernspaaces.com\\n          \\n \\n \\n \\n          Contact Us\\n          \\n \\n \\n \\n \\n \\n \\n \\n \\n \\n \\n \\n \\n \\n \\n \\n \\n \\n \\n \\n \\n \\n \\n \\n \\n \\n \\n             Ongoing Projects\\n             \\n \\n \\n \\n \\n \\n \\n \\n \\n \\n \\n \\n \\n \\n               Soulace', metadata={'Header 1': '#TITLE#'}),\n",
       " Document(page_content='Soulace\\n               \\n \\n \\n \\n               Engrace\\n               \\n \\n \\n \\n               Engrace Vista\\n               \\n \\n \\n \\n \\n \\n \\n \\n \\n \\n             Upcoming Projects\\n             \\n \\n \\n \\n \\n \\n \\n \\n \\n \\n \\n \\n \\n \\n               Central Park\\n               \\n \\n \\n \\n               Serene Heights\\n               \\n \\n \\n \\n               Onyx\\n               \\n \\n \\n \\n               Green Storeys\\n               \\n \\n \\n \\n               Windmere', metadata={'Header 1': '#TITLE#'}),\n",
       " Document(page_content='Walk Town Residences\\n               \\n \\n \\n \\n               Tranquil Terraces\\n               \\n \\n \\n \\n               Ivy County\\n               \\n \\n \\n \\n               Fo’Rest of ur lyf\\n               \\n \\n \\n \\n \\n \\n \\n \\n \\n \\n             Completed Projects\\n             \\n \\n \\n \\n \\n \\n \\n \\n \\n \\n \\n \\n \\n \\n               Soul Tree\\n               \\n \\n \\n \\n               Urbanest\\n               \\n \\n \\n \\n \\n \\n \\n \\n \\n \\n \\n \\n \\n \\n           About Us\\n           \\n \\n \\n \\n \\n \\n           Blogs', metadata={'Header 1': '#TITLE#'}),\n",
       " Document(page_content='Blogs\\n           \\n \\n \\n \\n \\n \\n \\n \\n \\n          +91 9008 288 288\\n          \\n \\n \\n \\n          info@modernspaaces.com\\n          \\n \\n \\n \\n \\n \\n \\n         Contact Us', metadata={'Header 1': '#TITLE#'}),\n",
       " Document(page_content='The True 3 BHK', metadata={'Header 1': 'The True 3 BHK'}),\n",
       " Document(page_content='Engrace Vista is Sarjapur’s  exclusive 3 BHK community offering spacious flats ranging from 2116 to 2200 sq. ft.', metadata={'Paragraph': 'Engrace Vista is Sarjapur’s  exclusive 3 BHK community offering spacious flats ranging from 2116 to 2200 sq. ft.'}),\n",
       " Document(page_content='Bangalore’s Hottest Home Destination.', metadata={'Header 1': 'Bangalore’s Hottest Home Destination.'}),\n",
       " Document(page_content='Located at Sarjapur road, Bangalore’s hottest residential development, connecting 3 major IT hubs- Electronic city, Whitefield & Bellandur ORR.', metadata={'Paragraph': 'Located at Sarjapur road, Bangalore’s hottest residential development, connecting 3 major IT hubs- Electronic city, Whitefield & Bellandur ORR.'}),\n",
       " Document(page_content='Exclusive 3 BHK Units', metadata={'Header 1': 'Exclusive 3 BHK Units'}),\n",
       " Document(page_content='Our exceptionally oversized apartments with floor areas ranging from 2116 - 2200 sq.ft provide ample room for living, entertaining, and unwinding.', metadata={'Paragraph': 'Our exceptionally oversized apartments with floor areas ranging from 2116 - 2200 sq.ft provide ample room for living, entertaining, and unwinding.'}),\n",
       " Document(page_content='Build to last with Aluform Technology.', metadata={'Header 1': 'Build to last with Aluform Technology.'}),\n",
       " Document(page_content='Aluform Technology has transformed our projects, by using lightweight & flexible materials with a focus on speed, quality & durability.', metadata={'Paragraph': 'Aluform Technology has transformed our projects, by using lightweight & flexible materials with a focus on speed, quality & durability.'}),\n",
       " Document(page_content='Project at glance', metadata={'Header 1': 'Project at glance'}),\n",
       " Document(page_content='Configuration', metadata={'Header 4': 'Configuration'}),\n",
       " Document(page_content='All 3 BHK', metadata={'Paragraph': 'All 3 BHK'}),\n",
       " Document(page_content='Size', metadata={'Header 4': 'Size'}),\n",
       " Document(page_content='2116 - 2200 sq ft', metadata={'Paragraph': '2116 - 2200 sq ft'}),\n",
       " Document(page_content='Construction', metadata={'Header 4': 'Construction'}),\n",
       " Document(page_content='Mivan / AluForm Technology', metadata={'Paragraph': 'Mivan / AluForm Technology'}),\n",
       " Document(page_content='Location', metadata={'Header 4': 'Location'}),\n",
       " Document(page_content='Sompura Gate, off Sarjapur Road', metadata={'Paragraph': 'Sompura Gate, off Sarjapur Road'}),\n",
       " Document(page_content='Legal Compliance', metadata={'Header 4': 'Legal Compliance'}),\n",
       " Document(page_content='RERA Approved, BMRDA Approved', metadata={'Paragraph': 'RERA Approved, BMRDA Approved'}),\n",
       " Document(page_content='Possession', metadata={'Header 4': 'Possession'}),\n",
       " Document(page_content='June 2027 Onwards', metadata={'Paragraph': 'June 2027 Onwards'}),\n",
       " Document(page_content='Structure', metadata={'Header 4': 'Structure'}),\n",
       " Document(page_content='B+G+14 Floor', metadata={'Paragraph': 'B+G+14 Floor'}),\n",
       " Document(page_content='Check Out Our Project Resources', metadata={'Header 1': 'Check Out Our Project Resources'}),\n",
       " Document(page_content='Access Project Resources: Download floor plans, master plan, and brochures to explore every detail of Engrace Vista.\\n          \\n \\n \\n \\n \\n \\n \\n           Floor Plan\\n           \\n \\n \\n \\n \\n             Download\\n             \\n \\n \\n \\n \\n \\n \\n \\n \\n \\n \\n \\n           Master Plan\\n           \\n \\n \\n \\n \\n             Download\\n             \\n \\n \\n \\n \\n \\n \\n \\n \\n \\n \\n \\n           Project Brochure\\n           \\n \\n \\n \\n \\n             Download', metadata={'Paragraph': 'Access Project Resources: Download floor plans, master plan, and brochures to explore every detail of Engrace Vista.'}),\n",
       " Document(page_content=\"It's All At Home\", metadata={'Header 1': \"It's All At Home\"}),\n",
       " Document(page_content='At Engrace we tried to understand how the WFH phenomenon would evolve in a post-pandemic world.\\n           \\n \\n \\n            View location video', metadata={'Paragraph': 'At Engrace we tried to understand how the WFH phenomenon would evolve in a post-pandemic world.'}),\n",
       " Document(page_content='Clubhouse', metadata={'Header 1': 'Clubhouse'}),\n",
       " Document(page_content='Make memories and connect with the community in our dynamic clubhouse.', metadata={'Header 5': 'Make memories and connect with the community in our dynamic clubhouse.'}),\n",
       " Document(page_content='Party Lawn', metadata={'Header 5': 'Party Lawn'}),\n",
       " Document(page_content='Where celebrations come alive beneath the starlit sky.', metadata={'Paragraph': 'Where celebrations come alive beneath the starlit sky.'}),\n",
       " Document(page_content='Guest Rooms', metadata={'Header 5': 'Guest Rooms'}),\n",
       " Document(page_content='Extend a warm welcome to your guests with a comfortable stay', metadata={'Paragraph': 'Extend a warm welcome to your guests with a comfortable stay'}),\n",
       " Document(page_content='Banquet Hall', metadata={'Header 5': 'Banquet Hall'}),\n",
       " Document(page_content='Host hassle free festivities and get togethers without stepping outside the community.', metadata={'Paragraph': 'Host hassle free festivities and get togethers without stepping outside the community.'}),\n",
       " Document(page_content='Badminton Court', metadata={'Header 5': 'Badminton Court'}),\n",
       " Document(page_content='Take a quick shuttle down to the badminton court and smash it up!', metadata={'Paragraph': 'Take a quick shuttle down to the badminton court and smash it up!'}),\n",
       " Document(page_content='Gym', metadata={'Header 5': 'Gym'}),\n",
       " Document(page_content='Level up your fitness journey with our gym designed to empower your goals.', metadata={'Paragraph': 'Level up your fitness journey with our gym designed to empower your goals.'}),\n",
       " Document(page_content='Squash Court', metadata={'Header 5': 'Squash Court'}),\n",
       " Document(page_content='Squash some calories with a thrilling game on the court', metadata={'Paragraph': 'Squash some calories with a thrilling game on the court'}),\n",
       " Document(page_content='Table Tennis', metadata={'Header 5': 'Table Tennis'}),\n",
       " Document(page_content='Ace your game with some smashing moves', metadata={'Paragraph': 'Ace your game with some smashing moves'}),\n",
       " Document(page_content='World Class Amenities', metadata={'Header 1': 'World Class Amenities'}),\n",
       " Document(page_content='Indulge in our meticulously curated, world-class amenities designed for a modern & comfortable lifestyle.', metadata={'Paragraph': 'Indulge in our meticulously curated, world-class amenities designed for a modern & comfortable lifestyle.'}),\n",
       " Document(page_content='Walking Track', metadata={'Paragraph': 'Walking Track'}),\n",
       " Document(page_content='Sunken Pool Lounge', metadata={'Paragraph': 'Sunken Pool Lounge'}),\n",
       " Document(page_content='Football Court', metadata={'Paragraph': 'Football Court'}),\n",
       " Document(page_content='Cricket Pitch', metadata={'Paragraph': 'Cricket Pitch'}),\n",
       " Document(page_content='Yoga Lawn', metadata={'Paragraph': 'Yoga Lawn'}),\n",
       " Document(page_content='Pet Park', metadata={'Paragraph': 'Pet Park'}),\n",
       " Document(page_content='Outdoor Party Lawn', metadata={'Paragraph': 'Outdoor Party Lawn'}),\n",
       " Document(page_content='Senior Garden Lounge', metadata={'Paragraph': 'Senior Garden Lounge'}),\n",
       " Document(page_content='Interactive Kids Play Area', metadata={'Paragraph': 'Interactive Kids Play Area'}),\n",
       " Document(page_content='Swimming Pool', metadata={'Paragraph': 'Swimming Pool'}),\n",
       " Document(page_content='Jacuzzi', metadata={'Paragraph': 'Jacuzzi'}),\n",
       " Document(page_content='Tree Court', metadata={'Paragraph': 'Tree Court'}),\n",
       " Document(page_content='Native Fruit Orchard', metadata={'Paragraph': 'Native Fruit Orchard'}),\n",
       " Document(page_content='Elevators', metadata={'Header 1': 'Elevators'}),\n",
       " Document(page_content='Say goodbye to waiting in queues for the elevator. Each tower is equipped with three lifts: 2 for residents and 1 for service, ensuring smoother and more efficient mobility management.', metadata={'Paragraph': 'Say goodbye to waiting in queues for the elevator. Each tower is equipped with three lifts: 2 for residents and 1 for service, ensuring smoother and more efficient mobility management.'}),\n",
       " Document(page_content='No common walls for Maximum Privacy', metadata={'Header 1': 'No common walls for Maximum Privacy'}),\n",
       " Document(page_content='Live life your way with zero shared walls and endless possibilities.', metadata={'Paragraph': 'Live life your way with zero shared walls and endless possibilities.'}),\n",
       " Document(page_content='4 Units Per Floor', metadata={'Header 1': '4 Units Per Floor'}),\n",
       " Document(page_content=\"With only four meticulously crafted units on each floor, you'll experience a level of exclusivity that defines true elegance.\", metadata={'Paragraph': \"With only four meticulously crafted units on each floor, you'll experience a level of exclusivity that defines true elegance.\"}),\n",
       " Document(page_content='Exclusive Corner Units', metadata={'Header 1': 'Exclusive Corner Units'}),\n",
       " Document(page_content='Each floor houses only 4 corner units with expansive views and natural airflow.', metadata={'Paragraph': 'Each floor houses only 4 corner units with expansive views and natural airflow.'}),\n",
       " Document(page_content='Wider Balconies', metadata={'Header 1': 'Wider Balconies'}),\n",
       " Document(page_content='Extensive balconies provide the perfect space for soaking up the sunshine, feeling the gentle rain, admiring stunning sunsets, or simply unwinding with a soothing cup of tea.', metadata={'Paragraph': 'Extensive balconies provide the perfect space for soaking up the sunshine, feeling the gentle rain, admiring stunning sunsets, or simply unwinding with a soothing cup of tea.'}),\n",
       " Document(page_content='Smart, Sustainable, Efficient', metadata={'Header 1': 'Smart, Sustainable, Efficient'}),\n",
       " Document(page_content='Explore Engrace Vista', metadata={'Paragraph': 'Explore Engrace Vista'}),\n",
       " Document(page_content='Cross ventilation', metadata={'Header 5': 'Cross ventilation'}),\n",
       " Document(page_content='Our homes are thoughtfully designed to enhance cross ventilation, significantly reducing the need for artificial cooling and lowering energy bills.', metadata={'Paragraph': 'Our homes are thoughtfully designed to enhance cross ventilation, significantly reducing the need for artificial cooling and lowering energy bills.'}),\n",
       " Document(page_content='Water Conservation', metadata={'Header 5': 'Water Conservation'}),\n",
       " Document(page_content='Dual piping & dual flush system for sanitary. All landscapes maintained through recycled water, water efficient fixtures, rain water harvesting and groundwater recharge.', metadata={'Paragraph': 'Dual piping & dual flush system for sanitary. All landscapes maintained through recycled water, water efficient fixtures, rain water harvesting and groundwater recharge.'}),\n",
       " Document(page_content='Natural Light', metadata={'Header 5': 'Natural Light'}),\n",
       " Document(page_content='Our rooms,terraces & balconies are designed to take advantage of natural light.The homes are compact and smart with ample light and fresh air.', metadata={'Paragraph': 'Our rooms,terraces & balconies are designed to take advantage of natural light.The homes are compact and smart with ample light and fresh air.'}),\n",
       " Document(page_content='Smart water meter', metadata={'Header 5': 'Smart water meter'}),\n",
       " Document(page_content='Discover the innovative Smart Water Meters: designed to monitor, manage, and minimize your water usage. These advanced meters come with remote tap control, leakage detection, and smart analytics for a comprehensive approach to water conservation.', metadata={'Paragraph': 'Discover the innovative Smart Water Meters: designed to monitor, manage, and minimize your water usage. These advanced meters come with remote tap control, leakage detection, and smart analytics for a comprehensive approach to water conservation.'}),\n",
       " Document(page_content='Why Sompura Gate, Sarjapur Road?', metadata={'Header 1': 'Why Sompura Gate, Sarjapur Road?'}),\n",
       " Document(page_content='Nestled just a 5-minute drive from the bustling Sarjapur Road, Engrace Vista resides in the heart of the hyper-growth area of Sompura Gate which is rapidly evolving into a prominent IT hub of Bangalore.', metadata={'Paragraph': 'Nestled just a 5-minute drive from the bustling Sarjapur Road, Engrace Vista resides in the heart of the hyper-growth area of Sompura Gate which is rapidly evolving into a prominent IT hub of Bangalore.'}),\n",
       " Document(page_content='What about my daily commute to work?', metadata={'Header 1': 'What about my daily commute to work?'}),\n",
       " Document(page_content=\"This locale provides easy traffic free access to Bangalore's key IT centers like Electronic City, Whitefield, and Bellandur, Outer Ring Road, all the while being tucked away from the madness of the city’s concrete jungle of today’s Bangalore.\", metadata={'Paragraph': \"This locale provides easy traffic free access to Bangalore's key IT centers like Electronic City, Whitefield, and Bellandur, Outer Ring Road, all the while being tucked away from the madness of the city’s concrete jungle of today’s Bangalore.\"}),\n",
       " Document(page_content='RGA Tech Park', metadata={'Paragraph': 'RGA Tech Park'}),\n",
       " Document(page_content='Decathlon Limited', metadata={'Paragraph': 'Decathlon Limited'}),\n",
       " Document(page_content='Wipro Corporate Park', metadata={'Paragraph': 'Wipro Corporate Park'}),\n",
       " Document(page_content='Electronic City & Whitefield', metadata={'Paragraph': 'Electronic City & Whitefield'}),\n",
       " Document(page_content='Cessna Business Park', metadata={'Paragraph': 'Cessna Business Park'}),\n",
       " Document(page_content='What about Education Centers?', metadata={'Header 1': 'What about Education Centers?'}),\n",
       " Document(page_content=\"The Engrace Vista community is surrounded by Bangalore's premier schools and colleges, all located within a convenient 5 to 8 kilometers from your doorstep ensuring access to quality education without the hassle of long commutes.\", metadata={'Paragraph': \"The Engrace Vista community is surrounded by Bangalore's premier schools and colleges, all located within a convenient 5 to 8 kilometers from your doorstep ensuring access to quality education without the hassle of long commutes.\"}),\n",
       " Document(page_content='TISB', metadata={'Paragraph': 'TISB'}),\n",
       " Document(page_content='Greenwood High (ICSE) School', metadata={'Paragraph': 'Greenwood High (ICSE) School'}),\n",
       " Document(page_content='Inventure Academy', metadata={'Paragraph': 'Inventure Academy'}),\n",
       " Document(page_content='Indus International School', metadata={'Paragraph': 'Indus International School'}),\n",
       " Document(page_content='Shlok International', metadata={'Paragraph': 'Shlok International'}),\n",
       " Document(page_content='ISME Management School', metadata={'Paragraph': 'ISME Management School'}),\n",
       " Document(page_content='Azim Premji University (Wipro)', metadata={'Paragraph': 'Azim Premji University (Wipro)'}),\n",
       " Document(page_content='How about the Social, Entertainment, Shopping & Emergency Centres around?', metadata={'Header 1': 'How about the Social, Entertainment, Shopping & Emergency Centres around?'}),\n",
       " Document(page_content=\"Being situated in a rapidly growing part of Bangalore, the area is dotted with shopping centers, restaurants, eateries, and Bangalore's finest brew pubs, all conveniently located within a 5-10 minute drive.\", metadata={'Paragraph': \"Being situated in a rapidly growing part of Bangalore, the area is dotted with shopping centers, restaurants, eateries, and Bangalore's finest brew pubs, all conveniently located within a 5-10 minute drive.\"}),\n",
       " Document(page_content=\"The locality features some of Bangalore's leading hospitals and health centers, ensuring quick access to medical assistance. Additionally, the police station is conveniently located within 3 km from the community, ensuring the safety of all residents.\", metadata={'Paragraph': \"The locality features some of Bangalore's leading hospitals and health centers, ensuring quick access to medical assistance. Additionally, the police station is conveniently located within 3 km from the community, ensuring the safety of all residents.\"}),\n",
       " Document(page_content='Get future ready today!', metadata={'Header 1': 'Get future ready today!'}),\n",
       " Document(page_content=\"Sompura Gate is rapidly emerging as one of Bangalore's hottest investment destinations, thanks to the upcoming Bangalore Metro, Satellite Town Ring Road, and Peripheral Ring Road. These developments offer convenient connectivity to Bangalore airport and various parts of the city.\", metadata={'Paragraph': \"Sompura Gate is rapidly emerging as one of Bangalore's hottest investment destinations, thanks to the upcoming Bangalore Metro, Satellite Town Ring Road, and Peripheral Ring Road. These developments offer convenient connectivity to Bangalore airport and various parts of the city.\"}),\n",
       " Document(page_content='Factors Impacting Real Estate Location | Modern Spaaces\\n          \\n \\n          Read Blog', metadata={'Header 1': 'Factors Impacting Real Estate Location | Modern Spaaces'}),\n",
       " Document(page_content='Gallery', metadata={'Header 1': 'Gallery'}),\n",
       " Document(page_content='Walkthrough\\n           \\n \\n \\n \\n \\n \\n \\n \\n            View', metadata={'Header 1': 'Walkthrough'}),\n",
       " Document(page_content='Specifications', metadata={'Header 1': 'Specifications'}),\n",
       " Document(page_content='The finer details.', metadata={'Paragraph': 'The finer details.'}),\n",
       " Document(page_content='Architecture', metadata={'Header 4': 'Architecture'}),\n",
       " Document(page_content='STRUCTURE', metadata={'Header 6': 'STRUCTURE'}),\n",
       " Document(page_content='Full R.C.C framed structure, designed as per relevant BIS codes for earth quake resistance and structurally efficient systems.', metadata={'Paragraph': 'Full R.C.C framed structure, designed as per relevant BIS codes for earth quake resistance and structurally efficient systems.'}),\n",
       " Document(page_content='WALLS', metadata={'Header 6': 'WALLS'}),\n",
       " Document(page_content='Internal walls: Smooth putty finish with emulsion paint finish', metadata={'Paragraph': 'Internal walls: Smooth putty finish with emulsion paint finish'}),\n",
       " Document(page_content='Kitchen & Utility: No dadoing above kitchen counter and in utility', metadata={'Paragraph': 'Kitchen & Utility: No dadoing above kitchen counter and in utility'}),\n",
       " Document(page_content='Toilets: Ceramic tiles wall dadoing up to false ceiling', metadata={'Paragraph': 'Toilets: Ceramic tiles wall dadoing up to false ceiling'}),\n",
       " Document(page_content='External walls: Texture finish with external grade weatherproof paint', metadata={'Paragraph': 'External walls: Texture finish with external grade weatherproof paint'}),\n",
       " Document(page_content='Balcony/terraces: External grade weatherproof paint', metadata={'Paragraph': 'Balcony/terraces: External grade weatherproof paint'}),\n",
       " Document(page_content='DOORS', metadata={'Header 6': 'DOORS'}),\n",
       " Document(page_content='Main door: Engineered door frame and engineered wooden shutter with veneer finish', metadata={'Paragraph': 'Main door: Engineered door frame and engineered wooden shutter with veneer finish'}),\n",
       " Document(page_content='Internal doors: Engineered door frame and engineered wooden shutter with laminate/veneer finish', metadata={'Paragraph': 'Internal doors: Engineered door frame and engineered wooden shutter with laminate/veneer finish'}),\n",
       " Document(page_content='Balcony access: UPVC sliding doors with provision for mosquito mesh shutter', metadata={'Paragraph': 'Balcony access: UPVC sliding doors with provision for mosquito mesh shutter'}),\n",
       " Document(page_content='WINDOWS', metadata={'Header 6': 'WINDOWS'}),\n",
       " Document(page_content='UPVC sliding windows with provision for mosquito mesh shutter', metadata={'Paragraph': 'UPVC sliding windows with provision for mosquito mesh shutter'}),\n",
       " Document(page_content='Kitchen Window: Sliding UPVC with exhaust fan provision & without mesh', metadata={'Paragraph': 'Kitchen Window: Sliding UPVC with exhaust fan provision & without mesh'}),\n",
       " Document(page_content='CEILING', metadata={'Header 6': 'CEILING'}),\n",
       " Document(page_content='All internal ceiling: Smooth putty with emulsion paint.', metadata={'Paragraph': 'All internal ceiling: Smooth putty with emulsion paint.'}),\n",
       " Document(page_content='Toilets: Modular grid false ceiling & white wash above false ceiling.', metadata={'Paragraph': 'Toilets: Modular grid false ceiling & white wash above false ceiling.'}),\n",
       " Document(page_content='Utility & Balcony: Painted with emulsion paint', metadata={'Paragraph': 'Utility & Balcony: Painted with emulsion paint'}),\n",
       " Document(page_content='FLOORING', metadata={'Header 6': 'FLOORING'}),\n",
       " Document(page_content='All Corridors and Lobbies: Anti-skid vitrified tiles', metadata={'Paragraph': 'All Corridors and Lobbies: Anti-skid vitrified tiles'}),\n",
       " Document(page_content='Living/Dining, Bedrooms, Kitchen & Utility: Vitrified double-charged tiles & granite for main door threshold', metadata={'Paragraph': 'Living/Dining, Bedrooms, Kitchen & Utility: Vitrified double-charged tiles & granite for main door threshold'}),\n",
       " Document(page_content='Toilets & Balconies: Anti-skid ceramic tiles', metadata={'Paragraph': 'Toilets & Balconies: Anti-skid ceramic tiles'}),\n",
       " Document(page_content='ELECTRICAL & PLUMBING', metadata={'Header 4': 'ELECTRICAL & PLUMBING'}),\n",
       " Document(page_content='INTERNET', metadata={'Header 6': 'INTERNET'}),\n",
       " Document(page_content='Data point provided – Living room – TV connection (MBR wired connection)', metadata={'Paragraph': 'Data point provided – Living room – TV connection (MBR wired connection)'}),\n",
       " Document(page_content='ELECTRIC WORKS', metadata={'Header 6': 'ELECTRIC WORKS'}),\n",
       " Document(page_content='General:Power outlet for water purifier, washing machine, and dishwasher,Adequate EB power will be provided', metadata={'Paragraph': 'General:Power outlet for water purifier, washing machine, and dishwasher,Adequate EB power will be provided'}),\n",
       " Document(page_content='DG Power Backup:1KW DG backup for individual units and 100% for common area lighting, pump, lift and fire services', metadata={'Paragraph': 'DG Power Backup:1KW DG backup for individual units and 100% for common area lighting, pump, lift and fire services'}),\n",
       " Document(page_content='AC Provision:Provision for powerpoint and drain outlet for AC in all bedrooms and living-dining areas.', metadata={'Paragraph': 'AC Provision:Provision for powerpoint and drain outlet for AC in all bedrooms and living-dining areas.'}),\n",
       " Document(page_content='ELEVATORS', metadata={'Header 6': 'ELEVATORS'}),\n",
       " Document(page_content='Elevators with automatic rescue device and emergency call facility to security', metadata={'Paragraph': 'Elevators with automatic rescue device and emergency call facility to security'}),\n",
       " Document(page_content='ALL BATHROOMS', metadata={'Header 6': 'ALL BATHROOMS'}),\n",
       " Document(page_content='EWC - White coloured wall mounted EWC with seat cover, flush valve, health faucet', metadata={'Paragraph': 'EWC - White coloured wall mounted EWC with seat cover, flush valve, health faucet'}),\n",
       " Document(page_content='Wash basin - White color counter top wash basin with faucet', metadata={'Paragraph': 'Wash basin - White color counter top wash basin with faucet'}),\n",
       " Document(page_content='Shower - Shower with single lever diverter', metadata={'Paragraph': 'Shower - Shower with single lever diverter'}),\n",
       " Document(page_content='Faucets - Water efficient CP fixtures', metadata={'Paragraph': 'Faucets - Water efficient CP fixtures'}),\n",
       " Document(page_content='UTILITY', metadata={'Header 6': 'UTILITY'}),\n",
       " Document(page_content='Plumbing lines provision for Water purifier, Washing machine & Dishwasher', metadata={'Paragraph': 'Plumbing lines provision for Water purifier, Washing machine & Dishwasher'}),\n",
       " Document(page_content='OTHER SERVICES', metadata={'Header 4': 'OTHER SERVICES'}),\n",
       " Document(page_content='CCTV', metadata={'Header 6': 'CCTV'}),\n",
       " Document(page_content='At selected locations as per design (all lobbies, all entry/exits, common areas)', metadata={'Paragraph': 'At selected locations as per design (all lobbies, all entry/exits, common areas)'}),\n",
       " Document(page_content='EV CHARGING & CAR WASH', metadata={'Header 6': 'EV CHARGING & CAR WASH'}),\n",
       " Document(page_content='Car Charging Points: Power outlet provision for EV charging at dedicated parking spaces.', metadata={'Paragraph': 'Car Charging Points: Power outlet provision for EV charging at dedicated parking spaces.'}),\n",
       " Document(page_content='Car Wash Facility: Car wash point provided at a dedicated space with plumbing points (water inlet and water outlet).', metadata={'Paragraph': 'Car Wash Facility: Car wash point provided at a dedicated space with plumbing points (water inlet and water outlet).'}),\n",
       " Document(page_content='FIRE & SAFETY', metadata={'Header 6': 'FIRE & SAFETY'}),\n",
       " Document(page_content='Fire systems will be provided as per the fire norms.', metadata={'Paragraph': 'Fire systems will be provided as per the fire norms.'}),\n",
       " Document(page_content='LPG CONNECTION', metadata={'Header 6': 'LPG CONNECTION'}),\n",
       " Document(page_content='Gas bank with reticulated piped gas system to individual apartment monitored with gas meter from any pvt. Designed provider.', metadata={'Paragraph': 'Gas bank with reticulated piped gas system to individual apartment monitored with gas meter from any pvt. Designed provider.'}),\n",
       " Document(page_content='Connect With Us', metadata={'Header 1': 'Connect With Us'}),\n",
       " Document(page_content='We’ll get back to you\\n           \\n \\n \\n \\n \\n \\n \\n              Full Name\\n              \\n \\n \\n              Please enter your name.\\n              \\n \\n \\n \\n              Phone Number\\n              \\n \\n \\n               +91\\n               \\n \\n \\n               Please enter your number.\\n               \\n \\n \\n \\n \\n              Email\\n              \\n \\n \\n              Please enter vaild email ID.\\n              \\n \\n \\n \\n              Message\\n              \\n \\n \\n \\n \\n \\n             Get in Touch', metadata={'Paragraph': 'We’ll get back to you'}),\n",
       " Document(page_content='Modern Spaaces has been creating an interesting story of growth and extraordinary success. We concentrate on blending technology, designs that people love, and natural elements to make spaces that make life better.\\n          \\n \\n \\n           Menu\\n           \\n \\n \\n            Home\\n            \\n \\n            Careers\\n            \\n \\n            Investment\\n            \\n \\n            About us\\n            \\n \\n            Blogs\\n            \\n \\n            Contact Us', metadata={'Paragraph': 'Modern Spaaces has been creating an interesting story of growth and extraordinary success. We concentrate on blending technology, designs that people love, and natural elements to make spaces that make life better.'}),\n",
       " Document(page_content='Get all the latest updates\\n            \\n \\n \\n \\n \\n              Please enter your Email.\\n              \\n \\n \\n \\n              Subscribe\\n              \\n \\n \\n \\n \\n \\n \\n \\n            Follow Us\\n            \\n \\n \\n \\n \\n \\n \\n \\n \\n \\n \\n \\n \\n \\n \\n \\n \\n \\n \\n \\n \\n             Disclaimer\\n             \\n \\n \\n            |\\n            \\n \\n \\n             Privacy Policy\\n             \\n \\n \\n \\n \\n \\n \\n \\n \\n \\n         © 2024 modernspaaces.com. All rights reserved.', metadata={'Paragraph': 'Modern Spaaces has been creating an interesting story of growth and extraordinary success. We concentrate on blending technology, designs that people love, and natural elements to make spaces that make life better.'}),\n",
       " Document(page_content='Disclaimer\\n            \\n \\n \\n           |\\n           \\n \\n \\n            Privacy Policy', metadata={'Paragraph': 'Modern Spaaces has been creating an interesting story of growth and extraordinary success. We concentrate on blending technology, designs that people love, and natural elements to make spaces that make life better.'}),\n",
       " Document(page_content='!function(e){function r(r){for(var n,a,l=r[0],p=r[1],f=r[2],c=0,s=[];c<l.length;c++)a=l[c],Object.prototype.hasOwnProperty.call(o,a)&&o[a]&&s.push(o[a][0]),o[a]=0;for(n in p)Object.prototype.hasOwnProperty.call(p,n)&&(e[n]=p[n]);for(i&&i(r);s.length;)s.shift()();return u.push.apply(u,f||[]),t()}function t(){for(var e,r=0;r<u.length;r++){for(var t=u[r],n=!0,l=1;l<t.length;l++){var p=t[l];0!==o[p]&&(n=!1)}n&&(u.splice(r--,1),e=a(a.s=t[0]))}return e}var n={},o={1:0},u=[];function', metadata={'Paragraph': 'Modern Spaaces has been creating an interesting story of growth and extraordinary success. We concentrate on blending technology, designs that people love, and natural elements to make spaces that make life better.'}),\n",
       " Document(page_content='n={},o={1:0},u=[];function a(r){if(n[r])return n[r].exports;var t=n[r]={i:r,l:!1,exports:{}};return e[r].call(t.exports,t,t.exports,a),t.l=!0,t.exports}a.m=e,a.c=n,a.d=function(e,r,t){a.o(e,r)||Object.defineProperty(e,r,{enumerable:!0,get:t})},a.r=function(e){\"undefined\"!=typeof Symbol&&Symbol.toStringTag&&Object.defineProperty(e,Symbol.toStringTag,{value:\"Module\"}),Object.defineProperty(e,\"__esModule\",{value:!0})},a.t=function(e,r){if(1&r&&(e=a(e)),8&r)return e;if(4&r&&\"object\"==typeof', metadata={'Paragraph': 'Modern Spaaces has been creating an interesting story of growth and extraordinary success. We concentrate on blending technology, designs that people love, and natural elements to make spaces that make life better.'}),\n",
       " Document(page_content='e;if(4&r&&\"object\"==typeof e&&e&&e.__esModule)return e;var t=Object.create(null);if(a.r(t),Object.defineProperty(t,\"default\",{enumerable:!0,value:e}),2&r&&\"string\"!=typeof e)for(var n in e)a.d(t,n,function(r){return e[r]}.bind(null,n));return t},a.n=function(e){var r=e&&e.__esModule?function(){return e.default}:function(){return e};return a.d(r,\"a\",r),r},a.o=function(e,r){return Object.prototype.hasOwnProperty.call(e,r)},a.p=\"/\";var', metadata={'Paragraph': 'Modern Spaaces has been creating an interesting story of growth and extraordinary success. We concentrate on blending technology, designs that people love, and natural elements to make spaces that make life better.'}),\n",
       " Document(page_content='l=this[\"webpackJsonpmodern-spaaces\"]=this[\"webpackJsonpmodern-spaaces\"]||[],p=l.push.bind(l);l.push=r,l=l.slice();for(var f=0;f<l.length;f++)r(l[f]);var i=p;t()}([])', metadata={'Paragraph': 'Modern Spaaces has been creating an interesting story of growth and extraordinary success. We concentrate on blending technology, designs that people love, and natural elements to make spaces that make life better.'}),\n",
       " Document(page_content='IMPORTANT NOTICE', metadata={'Paragraph': 'Modern Spaaces has been creating an interesting story of growth and extraordinary success. We concentrate on blending technology, designs that people love, and natural elements to make spaces that make life better.'}),\n",
       " Document(page_content='This is to inform user / customer(s) that\\n         \\n         www.modernspaaces.com\\n         \\n        is the only official website of Modern Spaaces.', metadata={'Paragraph': 'This is to inform user / customer(s) that\\n        \\n         www.modernspaaces.com\\n        \\n        is the only official website of Modern Spaaces.'}),\n",
       " Document(page_content=\"Users and customers are advised not to rely on information from any website that appears similar to the Company's official websites, even if it contains the company's name or logo. Information on such websites may be misleading or false, and users may suffer loss if they rely on it.\", metadata={'Paragraph': \"Users and customers are advised not to rely on information from any website that appears similar to the Company's official websites, even if it contains the company's name or logo. Information on such websites may be misleading or false, and users may suffer loss if they rely on it.\"}),\n",
       " Document(page_content=\"If you encounter any website similar to the Company's official website, containing its brand name, logo, or other information, please contact us at info@modernspaaces.com so the Company can take necessary action.\\n        \\n \\n        Dealing with Real Estate Agents\", metadata={'Paragraph': \"If you encounter any website similar to the Company's official website, containing its brand name, logo, or other information, please contact us at info@modernspaaces.com so the Company can take necessary action.\"}),\n",
       " Document(page_content='Please ensure you only deal with “Real Estate Agents registered” under RERA (Real Estate Regulation and Development Act). You can verify their registration on the RERA website by checking if their name appears as a real estate agent under the project name.', metadata={'Paragraph': 'Please ensure you only deal with “Real Estate Agents registered” under RERA (Real Estate Regulation and Development Act). You can verify their registration on the RERA website by checking if their name appears as a real estate agent under the project name.'}),\n",
       " Document(page_content='If you receive any unsolicited calls or text messages that violate regulatory norms or come from agents not registered with Modern Spaaces, please report them to us at info@modernspaaces.com for further investigation.\\n        \\n \\n        Partner Websites', metadata={'Paragraph': 'If you receive any unsolicited calls or text messages that violate regulatory norms or come from agents not registered with Modern Spaaces, please report them to us at info@modernspaaces.com for further investigation.'}),\n",
       " Document(page_content='While we strive for accuracy, Modern Spaces is not responsible for any misleading information found on partner websites. If you have accessed our site through a third-party link, please refer to our official website, modernspaces.com, for the most accurate and up-to-date information.\\n        \\n \\n        Agreement', metadata={'Paragraph': 'While we strive for accuracy, Modern Spaces is not responsible for any misleading information found on partner websites. If you have accessed our site through a third-party link, please refer to our official website, modernspaces.com, for the most accurate and up-to-date information.'}),\n",
       " Document(page_content='By continuing, you acknowledge and agree to the terms of this disclaimer.\\n        \\n \\n \\n \\n \\n \\n          Okay, Got It', metadata={'Paragraph': 'By continuing, you acknowledge and agree to the terms of this disclaimer.'})]"
      ]
     },
     "execution_count": 41,
     "metadata": {},
     "output_type": "execute_result"
    }
   ],
   "source": [
    "splits"
   ]
  },
  {
   "cell_type": "code",
   "execution_count": 42,
   "metadata": {},
   "outputs": [],
   "source": [
    "vectorstore = FAISS.from_documents(splits, embeddings)"
   ]
  },
  {
   "cell_type": "code",
   "execution_count": 43,
   "metadata": {},
   "outputs": [],
   "source": [
    "chain = RetrievalQA.from_chain_type(llm=llm, chain_type=\"stuff\", retriever=vectorstore.as_retriever())"
   ]
  },
  {
   "cell_type": "code",
   "execution_count": 44,
   "metadata": {},
   "outputs": [
    {
     "data": {
      "text/plain": [
       "{'query': 'When is the Possession Date ?', 'result': ' June 2027 onwards'}"
      ]
     },
     "execution_count": 44,
     "metadata": {},
     "output_type": "execute_result"
    }
   ],
   "source": [
    "chain.invoke(\"When is the Possession Date ?\")"
   ]
  },
  {
   "cell_type": "code",
   "execution_count": 45,
   "metadata": {},
   "outputs": [
    {
     "data": {
      "text/plain": [
       "{'query': 'What is the construction technology used',\n",
       " 'result': ' Aluform Technology'}"
      ]
     },
     "execution_count": 45,
     "metadata": {},
     "output_type": "execute_result"
    }
   ],
   "source": [
    "chain.invoke(\"What is the construction technology used\")"
   ]
  },
  {
   "cell_type": "code",
   "execution_count": 46,
   "metadata": {},
   "outputs": [
    {
     "data": {
      "text/plain": [
       "{'query': 'What are the legal compliance available, Is it RERA Approved ?',\n",
       " 'result': ' Yes, the legal compliance available is RERA Approved.'}"
      ]
     },
     "execution_count": 46,
     "metadata": {},
     "output_type": "execute_result"
    }
   ],
   "source": [
    "chain.invoke(\"What are the legal compliance available, Is it RERA Approved ?\")"
   ]
  },
  {
   "cell_type": "code",
   "execution_count": 47,
   "metadata": {},
   "outputs": [
    {
     "data": {
      "text/plain": [
       "{'query': 'Can you tell the location of engrace vista',\n",
       " 'result': ' Engrace Vista is located in the Sompura Gate area of Sarjapur, Bangalore.'}"
      ]
     },
     "execution_count": 47,
     "metadata": {},
     "output_type": "execute_result"
    }
   ],
   "source": [
    "chain.invoke(\"Can you tell the location of engrace vista\")"
   ]
  },
  {
   "cell_type": "code",
   "execution_count": 48,
   "metadata": {},
   "outputs": [
    {
     "data": {
      "text/plain": [
       "{'query': 'What are the education centers near by ?',\n",
       " 'result': ' Some of the education centers near the Engrace Vista community include Indus International School, Bangalore, and various other premier schools and colleges located within a convenient 5 to 8 kilometers from the community.'}"
      ]
     },
     "execution_count": 48,
     "metadata": {},
     "output_type": "execute_result"
    }
   ],
   "source": [
    "chain.invoke(\"What are the education centers near by ?\")"
   ]
  },
  {
   "cell_type": "code",
   "execution_count": 49,
   "metadata": {},
   "outputs": [
    {
     "data": {
      "text/plain": [
       "{'query': 'Are there any shopping mall near by ?',\n",
       " 'result': ' Yes, there are shopping centers, restaurants, eateries, and brew pubs within a 5-10 minute drive.'}"
      ]
     },
     "execution_count": 49,
     "metadata": {},
     "output_type": "execute_result"
    }
   ],
   "source": [
    "chain.invoke(\"Are there any shopping mall near by ?\")"
   ]
  },
  {
   "cell_type": "code",
   "execution_count": 50,
   "metadata": {},
   "outputs": [
    {
     "data": {
      "text/plain": [
       "{'query': 'Can i get the phone number of the modern spaaces',\n",
       " 'result': ' The phone number for Modern Spaaces is +91 9008 288 288.'}"
      ]
     },
     "execution_count": 50,
     "metadata": {},
     "output_type": "execute_result"
    }
   ],
   "source": [
    "chain.invoke(\"Can i get the phone number of the modern spaaces\")"
   ]
  },
  {
   "cell_type": "code",
   "execution_count": 51,
   "metadata": {},
   "outputs": [
    {
     "data": {
      "text/plain": [
       "{'query': 'Why I need to purchase from modern spaaces',\n",
       " 'result': ' It is recommended to purchase from modern spaaces as it is the only official website and they have a proven track record of success in creating innovative and high-quality spaces. Additionally, their focus on using technology, design, and natural elements ensures that their spaces are not only aesthetically pleasing, but also enhance the quality of life for their customers.'}"
      ]
     },
     "execution_count": 51,
     "metadata": {},
     "output_type": "execute_result"
    }
   ],
   "source": [
    "chain.invoke(\"Why I need to purchase from modern spaaces\")"
   ]
  },
  {
   "cell_type": "code",
   "execution_count": 52,
   "metadata": {},
   "outputs": [
    {
     "data": {
      "text/plain": [
       "{'query': 'Is modern spaaces is RERA Approved',\n",
       " 'result': \"\\nI don't know, as it is not mentioned in the given context. \"}"
      ]
     },
     "execution_count": 52,
     "metadata": {},
     "output_type": "execute_result"
    }
   ],
   "source": [
    "chain.invoke(\"Is modern spaaces is RERA Approved\")"
   ]
  },
  {
   "cell_type": "code",
   "execution_count": 54,
   "metadata": {},
   "outputs": [
    {
     "data": {
      "text/plain": [
       "{'query': 'What is the email id of modern spaaces',\n",
       " 'result': ' info@modernspaaces.com'}"
      ]
     },
     "execution_count": 54,
     "metadata": {},
     "output_type": "execute_result"
    }
   ],
   "source": [
    "chain.invoke(\"What is the email id of modern spaaces\")"
   ]
  },
  {
   "cell_type": "code",
   "execution_count": 55,
   "metadata": {},
   "outputs": [
    {
     "data": {
      "text/plain": [
       "{'query': 'Is it EV Charging facility available',\n",
       " 'result': ' Yes, EV charging facility is available at dedicated parking spaces.'}"
      ]
     },
     "execution_count": 55,
     "metadata": {},
     "output_type": "execute_result"
    }
   ],
   "source": [
    "chain.invoke(\"Is it EV Charging facility available\")"
   ]
  },
  {
   "cell_type": "code",
   "execution_count": 56,
   "metadata": {},
   "outputs": [
    {
     "data": {
      "text/plain": [
       "{'query': 'Is modern spaaces offer smart water meters ?',\n",
       " 'result': ' It is not explicitly mentioned in the context, so it is not clear if Modern Spaaces offers smart water meters.'}"
      ]
     },
     "execution_count": 56,
     "metadata": {},
     "output_type": "execute_result"
    }
   ],
   "source": [
    "chain.invoke(\"Is modern spaaces offer smart water meters ?\")"
   ]
  },
  {
   "cell_type": "code",
   "execution_count": 57,
   "metadata": {},
   "outputs": [
    {
     "data": {
      "text/plain": [
       "{'query': 'Is lift / elevators will be installed ?',\n",
       " 'result': ' Yes, elevators will be installed.'}"
      ]
     },
     "execution_count": 57,
     "metadata": {},
     "output_type": "execute_result"
    }
   ],
   "source": [
    "chain.invoke(\"Is lift / elevators will be installed ?\")"
   ]
  },
  {
   "cell_type": "code",
   "execution_count": 58,
   "metadata": {},
   "outputs": [
    {
     "data": {
      "text/plain": [
       "{'query': 'Can you give more information about elevators that are going to be installed',\n",
       " 'result': ' The elevators will have automatic rescue devices and an emergency call facility to security. Each tower will have three lifts, with two designated for residents and one for service. This will improve mobility management and reduce wait times for elevators.'}"
      ]
     },
     "execution_count": 58,
     "metadata": {},
     "output_type": "execute_result"
    }
   ],
   "source": [
    "chain.invoke(\"Can you give more information about elevators that are going to be installed\")"
   ]
  },
  {
   "cell_type": "code",
   "execution_count": 59,
   "metadata": {},
   "outputs": [
    {
     "data": {
      "text/plain": [
       "{'query': 'How spacious apartments are available in modern spaaces',\n",
       " 'result': ' \\n\\nThe context does not provide a specific number of apartments available. It only mentions that the apartments have floor areas ranging from 2116 - 2200 sq.ft, which suggests that there are multiple apartments available. '}"
      ]
     },
     "execution_count": 59,
     "metadata": {},
     "output_type": "execute_result"
    }
   ],
   "source": [
    "chain.invoke(\"How spacious apartments are available in modern spaaces\")"
   ]
  },
  {
   "cell_type": "code",
   "execution_count": 60,
   "metadata": {},
   "outputs": [
    {
     "data": {
      "text/plain": [
       "{'query': 'Create a pitch for modern spaaces engrace vista',\n",
       " 'result': \" Modern Spaaces is a company that has been creating incredible spaces that blend technology, design, and natural elements to enhance people's lives. Our latest project, Engrace Vista, is a testament to our commitment to innovation and excellence. Located in the beautiful setting of Soulace, Engrace Vista offers a unique living experience where you can truly connect with nature. With upcoming projects like Central Park, Serene Heights, and Onyx, we are taking sustainable living to new heights. Don't miss the opportunity to be a part of this extraordinary development. Explore Engrace Vista today and access all the project resources, including floor plans and master plans, to see the intricate details that make this project truly special. Join us in creating a better world, one space at a time.\"}"
      ]
     },
     "execution_count": 60,
     "metadata": {},
     "output_type": "execute_result"
    }
   ],
   "source": [
    "chain.invoke(\"Create a pitch for modern spaaces engrace vista\")"
   ]
  },
  {
   "cell_type": "code",
   "execution_count": null,
   "metadata": {},
   "outputs": [],
   "source": []
  }
 ],
 "metadata": {
  "kernelspec": {
   "display_name": ".venv",
   "language": "python",
   "name": "python3"
  },
  "language_info": {
   "codemirror_mode": {
    "name": "ipython",
    "version": 3
   },
   "file_extension": ".py",
   "mimetype": "text/x-python",
   "name": "python",
   "nbconvert_exporter": "python",
   "pygments_lexer": "ipython3",
   "version": "3.11.0"
  }
 },
 "nbformat": 4,
 "nbformat_minor": 2
}
